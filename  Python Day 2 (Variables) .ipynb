{
 "cells": [
  {
   "cell_type": "markdown",
   "id": "061a9ff9",
   "metadata": {},
   "source": [
    "# Variables\n",
    "**A Variable is a container for particular set of bits or type of data.**\n",
    "## How to create Variables\n",
    "    Python has no command for declaring a variable.\n",
    "    A variable is created the moment we first assign a value to it.\n",
    "#### Example:-"
   ]
  },
  {
   "cell_type": "code",
   "execution_count": 1,
   "id": "1c11d2be",
   "metadata": {},
   "outputs": [
    {
     "name": "stdout",
     "output_type": "stream",
     "text": [
      "9\n",
      "AJAY\n"
     ]
    }
   ],
   "source": [
    "a = 9\n",
    "b = \"AJAY\"\n",
    "print(a)\n",
    "print(b)"
   ]
  },
  {
   "cell_type": "markdown",
   "id": "3a22e198",
   "metadata": {},
   "source": [
    "**If we save a value to an existing variable, the new value will overwrite the previous value.**\n",
    "#### Example:-"
   ]
  },
  {
   "cell_type": "code",
   "execution_count": 1,
   "id": "a13434f3",
   "metadata": {},
   "outputs": [
    {
     "name": "stdout",
     "output_type": "stream",
     "text": [
      "Value\n",
      "New Value\n"
     ]
    }
   ],
   "source": [
    "x = \"Value\"\n",
    "print(x)\n",
    "\n",
    "x = \"New Value\"\n",
    "print(x)"
   ]
  },
  {
   "cell_type": "markdown",
   "id": "ac4ea6ac",
   "metadata": {},
   "source": [
    "## Variable Names\n",
    "    A variable can have a short name (like a and b) or a more descriptive name(age, carname, total_volume). \n",
    "    \n",
    "### Rules for Python variables:-\n",
    "- A variable name must start with a letter or the underscore character\n",
    "- A variable name cannot start with a number\n",
    "- A variable name can only contain alpha-numeric characters and underscores(A-z, 0-9, and _ )\n",
    "- Variable names are case-sensitive ( age, Age and AGE are three different variables)\n",
    "\n",
    "**Remember that variable names are case-sensitive.**\n",
    "#### Example:-  Legal Variable names"
   ]
  },
  {
   "cell_type": "code",
   "execution_count": 4,
   "id": "68b5674e",
   "metadata": {},
   "outputs": [
    {
     "name": "stdout",
     "output_type": "stream",
     "text": [
      "Kiran\n",
      "Kiran\n",
      "Kiran\n",
      "Kiran\n",
      "Kiran\n",
      "Kiran\n",
      "Kiran\n"
     ]
    }
   ],
   "source": [
    "legalvariable = \"Kiran\"\n",
    "legal_variable = \"Kiran\" \n",
    "_legal_variable = \"Kiran\"\n",
    "legalVariable = \"Kiran\"\n",
    "LEGALVARIABLE = \"Kiran\"\n",
    "legalvariable2 = \"Kiran\"\n",
    "legalvariable_2 = \"Kiran\"\n",
    "\n",
    "print(legalvariable)\n",
    "print(legal_variable)\n",
    "print(_legal_variable)\n",
    "print(legalVariable)\n",
    "print(LEGALVARIABLE)\n",
    "print(legalvariable2)\n",
    "print(legalvariable_2)"
   ]
  },
  {
   "cell_type": "markdown",
   "id": "19b50e53",
   "metadata": {},
   "source": [
    "#### Example 2:-   illegal variable names:"
   ]
  },
  {
   "cell_type": "code",
   "execution_count": 3,
   "id": "64245eb5",
   "metadata": {},
   "outputs": [
    {
     "ename": "SyntaxError",
     "evalue": "invalid syntax (Temp/ipykernel_3876/2300322563.py, line 1)",
     "output_type": "error",
     "traceback": [
      "\u001b[1;36m  File \u001b[1;32m\"C:\\Users\\WIN10\\AppData\\Local\\Temp/ipykernel_3876/2300322563.py\"\u001b[1;36m, line \u001b[1;32m1\u001b[0m\n\u001b[1;33m    1illegalvariable = \"Kiran\"\u001b[0m\n\u001b[1;37m     ^\u001b[0m\n\u001b[1;31mSyntaxError\u001b[0m\u001b[1;31m:\u001b[0m invalid syntax\n"
     ]
    }
   ],
   "source": [
    "1illegalvariable = \"Kiran\"\n",
    "illegal-variable = \"Kiran\"\n",
    "illegal variable = \"Kiran\""
   ]
  },
  {
   "cell_type": "markdown",
   "id": "dc1c0a6c",
   "metadata": {},
   "source": [
    "## Assigning Multiple Values to Multiple Variables\n",
    "    Python allows you to assign values to multiple variables in one line\n",
    "**Make sure the number of variables matches the number of values, or else you will get an error.**\n",
    "#### Example:-\n",
    "\n"
   ]
  },
  {
   "cell_type": "code",
   "execution_count": 5,
   "id": "b427c64c",
   "metadata": {},
   "outputs": [
    {
     "name": "stdout",
     "output_type": "stream",
     "text": [
      "KTM\n",
      "TVS\n",
      "HERO\n"
     ]
    }
   ],
   "source": [
    "a, b, c = \"KTM\", \"TVS\", \"HERO\"\n",
    "\n",
    "print(a)\n",
    "print(b)\n",
    "print(c)"
   ]
  },
  {
   "cell_type": "markdown",
   "id": "90664394",
   "metadata": {},
   "source": [
    "## One value to Multiple Variables\n",
    "    We can assign the same value to multiple variables in one line.\n",
    "#### Example:-"
   ]
  },
  {
   "cell_type": "code",
   "execution_count": 7,
   "id": "e49efcd0",
   "metadata": {},
   "outputs": [
    {
     "name": "stdout",
     "output_type": "stream",
     "text": [
      "KTM\n",
      "KTM\n",
      "KTM\n"
     ]
    }
   ],
   "source": [
    "a = b = c = \"KTM\"\n",
    "print(a)\n",
    "print(b)\n",
    "print(c)"
   ]
  },
  {
   "cell_type": "markdown",
   "id": "af3f2f5f",
   "metadata": {},
   "source": [
    "## Unpack a Collection\n",
    "   If we have a collection of values in a list, tuple etc. Python allows us to extract the values into variables. This is called *Unpacking*.\n",
    "#### Example:- unpack a list"
   ]
  },
  {
   "cell_type": "code",
   "execution_count": 8,
   "id": "94117b4d",
   "metadata": {},
   "outputs": [
    {
     "name": "stdout",
     "output_type": "stream",
     "text": [
      "Benz\n",
      "BMW\n",
      "AUDI\n"
     ]
    }
   ],
   "source": [
    "car_brand_names = [\"Benz\", \"BMW\", \"AUDI\"]\n",
    "D, E, F = car_brand_names\n",
    "print(D)\n",
    "print(E)\n",
    "print(F)"
   ]
  },
  {
   "cell_type": "markdown",
   "id": "92ec4283",
   "metadata": {},
   "source": [
    "## Output Variables\n",
    "The Python **print()** function is often used to output variables, and we can output multiple variables, separated by comma( , ).\n",
    "#### Example:-"
   ]
  },
  {
   "cell_type": "code",
   "execution_count": 9,
   "id": "c37b8fa1",
   "metadata": {},
   "outputs": [
    {
     "name": "stdout",
     "output_type": "stream",
     "text": [
      "Python is awesome\n"
     ]
    }
   ],
   "source": [
    "a = \"Python\"\n",
    "b = \"is\"\n",
    "c = \"awesome\"\n",
    "print(a, b, c)"
   ]
  },
  {
   "cell_type": "markdown",
   "id": "5ff86235",
   "metadata": {},
   "source": [
    "we can also use the **+** operator to output multiple variables.\n",
    "#### Example 1:-\n",
    " **NOTE:** Notice the space character after \"Python \" and \"is \" , without them the result would be \"Pythonisawesome\"."
   ]
  },
  {
   "cell_type": "code",
   "execution_count": 15,
   "id": "e09c3e0d",
   "metadata": {},
   "outputs": [
    {
     "name": "stdout",
     "output_type": "stream",
     "text": [
      "Python is awesome\n"
     ]
    }
   ],
   "source": [
    "a = \"Python \"\n",
    "b = \"is \"\n",
    "c = \"awesome\"\n",
    "print(a+b+c)"
   ]
  },
  {
   "cell_type": "markdown",
   "id": "da499068",
   "metadata": {},
   "source": [
    "#### Example 2:-  \n",
    "For numbers, the **+** character works as a mathematical operator."
   ]
  },
  {
   "cell_type": "code",
   "execution_count": 12,
   "id": "724571f4",
   "metadata": {},
   "outputs": [
    {
     "name": "stdout",
     "output_type": "stream",
     "text": [
      "9\n"
     ]
    }
   ],
   "source": [
    "x = 3\n",
    "y = 6\n",
    "print(x+y)"
   ]
  },
  {
   "cell_type": "markdown",
   "id": "3b2744d5",
   "metadata": {},
   "source": [
    "\"when you try to combine a string and a number with the **+** operator in the **print()** function, Python will give you an error.\" And the best way to output multiple variables in the **print()** function is to separate them with commas, which even support different data types.\n",
    "#### Example 3:-"
   ]
  },
  {
   "cell_type": "code",
   "execution_count": 14,
   "id": "3df63b02",
   "metadata": {},
   "outputs": [
    {
     "name": "stdout",
     "output_type": "stream",
     "text": [
      "2 caesar\n"
     ]
    }
   ],
   "source": [
    "x = 2\n",
    "y = \"caesar\"\n",
    "print(x, y)"
   ]
  },
  {
   "cell_type": "markdown",
   "id": "3a1bbd46",
   "metadata": {},
   "source": [
    "# Global Variables\n",
    "   Variables that are created outside of a function (as in all of the examples above) are known as global variables. Global variables can be used by everyone, both inside of functions and outside.\n",
    "#### Example:- \n",
    "Create a variable outside of a function, and use it inside the function."
   ]
  },
  {
   "cell_type": "code",
   "execution_count": 16,
   "id": "75d2cb1e",
   "metadata": {},
   "outputs": [
    {
     "name": "stdout",
     "output_type": "stream",
     "text": [
      "Python is awesome\n"
     ]
    }
   ],
   "source": [
    "a = \"awesome\"\n",
    "\n",
    "def myfunc():\n",
    "    print(\"Python is \" + a)\n",
    "    \n",
    "myfunc()    "
   ]
  },
  {
   "cell_type": "markdown",
   "id": "7cfce031",
   "metadata": {},
   "source": [
    "   If you create a variable with the same name inside a function, this variable will be local, and can only be used inside the function. The global variable with the same name will remain as it was, global and with the original value.\n",
    "#### Example:-\n",
    "Create a variable inside a function, with the same name as the global variable"
   ]
  },
  {
   "cell_type": "code",
   "execution_count": 17,
   "id": "c77ec909",
   "metadata": {},
   "outputs": [
    {
     "name": "stdout",
     "output_type": "stream",
     "text": [
      "Python is fantastic\n",
      "Python is awesome\n"
     ]
    }
   ],
   "source": [
    "a = \"awesome\"\n",
    "\n",
    "def myfunc():\n",
    "    a = \"fantastic\"\n",
    "    print(\"Python is \" + a)\n",
    "    \n",
    "myfunc()\n",
    "\n",
    "print(\"Python is \" + a)"
   ]
  },
  {
   "cell_type": "markdown",
   "id": "bde64509",
   "metadata": {},
   "source": [
    "## The Global Keyword\n",
    "Normally, when you create a variable inside a function, that varible is local, and can only be used inside that function.\n",
    "\n",
    "To create a global variable inside a function, you can use the **global** keyword.\n",
    "#### Example:-\n",
    "If you use the **global** keyword, the variable belongs to the global scope :"
   ]
  },
  {
   "cell_type": "code",
   "execution_count": 18,
   "id": "9a6fc0a4",
   "metadata": {},
   "outputs": [
    {
     "name": "stdout",
     "output_type": "stream",
     "text": [
      "Python is fantastic\n"
     ]
    }
   ],
   "source": [
    "def myfunc():\n",
    "    global a \n",
    "    a = \"fantastic\"\n",
    "    \n",
    "myfunc()\n",
    "\n",
    "print(\"Python is \" + a)"
   ]
  },
  {
   "cell_type": "markdown",
   "id": "e778e8e8",
   "metadata": {},
   "source": [
    "Also, use the 'global' keyword if you want to change a global variable inside a function.\n",
    "#### Example:-\n",
    "to change the value of a global variable inside a function, refer to the variable by using the 'global' keyword."
   ]
  },
  {
   "cell_type": "code",
   "execution_count": 21,
   "id": "3fed9237",
   "metadata": {},
   "outputs": [
    {
     "name": "stdout",
     "output_type": "stream",
     "text": [
      "Python is fantastic\n"
     ]
    }
   ],
   "source": [
    "a = \"awesome\"\n",
    "\n",
    "def myfunc():\n",
    "    global a \n",
    "    a = \"fantastic\"\n",
    "    \n",
    "myfunc()\n",
    "\n",
    "print(\"Python is \" + a)"
   ]
  }
 ],
 "metadata": {
  "kernelspec": {
   "display_name": "Python 3 (ipykernel)",
   "language": "python",
   "name": "python3"
  },
  "language_info": {
   "codemirror_mode": {
    "name": "ipython",
    "version": 3
   },
   "file_extension": ".py",
   "mimetype": "text/x-python",
   "name": "python",
   "nbconvert_exporter": "python",
   "pygments_lexer": "ipython3",
   "version": "3.9.7"
  }
 },
 "nbformat": 4,
 "nbformat_minor": 5
}
