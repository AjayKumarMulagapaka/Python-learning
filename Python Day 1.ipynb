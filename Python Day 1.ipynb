{
 "cells": [
  {
   "cell_type": "markdown",
   "id": "d90d5e4d",
   "metadata": {},
   "source": [
    "# What is Python ?\n",
    "- Python is an interpreted, object-oriented, high-level programming language with dynamic semantics. And it's open source.\n",
    "- Python is commonly used for developing websites and software, task automation, data analysis and data visualization."
   ]
  },
  {
   "cell_type": "code",
   "execution_count": 8,
   "id": "2ec357bd",
   "metadata": {
    "scrolled": true
   },
   "outputs": [
    {
     "name": "stdout",
     "output_type": "stream",
     "text": [
      "Hello, World!\n"
     ]
    }
   ],
   "source": [
    "print(\"Hello, World!\") #this is my first python code."
   ]
  },
  {
   "cell_type": "markdown",
   "id": "dde13a1f",
   "metadata": {},
   "source": [
    "## Python Indentation\n",
    "- Indentation refers to the spaces at the beginning of a code line. Where in other programming languages the indentation in code is for readability only, the indetation in Python is very important."
   ]
  },
  {
   "cell_type": "markdown",
   "id": "97206cab",
   "metadata": {},
   "source": [
    "**Python uses indentation to indicate a block of code:**\n",
    "### Example:-"
   ]
  },
  {
   "cell_type": "code",
   "execution_count": 9,
   "id": "c6a96925",
   "metadata": {},
   "outputs": [
    {
     "name": "stdout",
     "output_type": "stream",
     "text": [
      "Five is greater than two!\n"
     ]
    }
   ],
   "source": [
    "if 9 > 4:\n",
    "    print(\"Nine is greater than four!\")"
   ]
  },
  {
   "cell_type": "markdown",
   "id": "1e6524c7",
   "metadata": {},
   "source": [
    "**Python will give you an error if you skip the indetation:**\n",
    "### Example:-"
   ]
  },
  {
   "cell_type": "code",
   "execution_count": 10,
   "id": "99e6588c",
   "metadata": {},
   "outputs": [
    {
     "ename": "IndentationError",
     "evalue": "expected an indented block (Temp/ipykernel_2376/3793329317.py, line 2)",
     "output_type": "error",
     "traceback": [
      "\u001b[1;36m  File \u001b[1;32m\"C:\\Users\\WIN10\\AppData\\Local\\Temp/ipykernel_2376/3793329317.py\"\u001b[1;36m, line \u001b[1;32m2\u001b[0m\n\u001b[1;33m    print(\"Five is greater than two!\")\u001b[0m\n\u001b[1;37m    ^\u001b[0m\n\u001b[1;31mIndentationError\u001b[0m\u001b[1;31m:\u001b[0m expected an indented block\n"
     ]
    }
   ],
   "source": [
    "if 6 > 3:\n",
    "print(\"Six is greater than three!\") # This will show you an error."
   ]
  },
  {
   "cell_type": "markdown",
   "id": "010da410",
   "metadata": {},
   "source": [
    "**The number of spaces is up to you as a programmer, the most common is four, but it has to be at least one:**"
   ]
  },
  {
   "cell_type": "markdown",
   "id": "27bbb365",
   "metadata": {},
   "source": [
    "### Example:-"
   ]
  },
  {
   "cell_type": "code",
   "execution_count": 11,
   "id": "f3da3673",
   "metadata": {},
   "outputs": [
    {
     "name": "stdout",
     "output_type": "stream",
     "text": [
      "Nine is greater than four!\n",
      "Nine is greater than four!\n"
     ]
    }
   ],
   "source": [
    "if 9 > 4:\n",
    " print(\"Nine is greater than four!\") \n",
    "if 9 > 4:\n",
    "        print(\"Nine is greater than four!\") "
   ]
  },
  {
   "cell_type": "markdown",
   "id": "9b6ef659",
   "metadata": {},
   "source": [
    "**You have to use the same number of spaces in the same block of code, otherwise Python will give you an error:**\n",
    "### Example:"
   ]
  },
  {
   "cell_type": "code",
   "execution_count": 12,
   "id": "f59821fa",
   "metadata": {},
   "outputs": [
    {
     "ename": "IndentationError",
     "evalue": "unexpected indent (Temp/ipykernel_2376/2621416171.py, line 3)",
     "output_type": "error",
     "traceback": [
      "\u001b[1;36m  File \u001b[1;32m\"C:\\Users\\WIN10\\AppData\\Local\\Temp/ipykernel_2376/2621416171.py\"\u001b[1;36m, line \u001b[1;32m3\u001b[0m\n\u001b[1;33m    print(\"Six is greater than three!\")\u001b[0m\n\u001b[1;37m    ^\u001b[0m\n\u001b[1;31mIndentationError\u001b[0m\u001b[1;31m:\u001b[0m unexpected indent\n"
     ]
    }
   ],
   "source": [
    "if 6 > 3:\n",
    "  print(\"Six is greater than three!\")\n",
    "        print(\"Six is greater than three!\")"
   ]
  },
  {
   "cell_type": "markdown",
   "id": "99000f53",
   "metadata": {},
   "source": [
    "# Comments\n",
    "        Comments can be used to explain Python code, make the code more readable and prevent execution when testing code.\n",
    "## Creating a Comment\n",
    "- **Comments starts with a \"#\", and Python will ignore them.**\n",
    "- **Comments can be placed at the end of a line, and Python will ignore the rest of the line.**\n",
    "### Example:-"
   ]
  },
  {
   "cell_type": "code",
   "execution_count": 14,
   "id": "6dd7baa6",
   "metadata": {},
   "outputs": [
    {
     "name": "stdout",
     "output_type": "stream",
     "text": [
      "Welcome!, Python101\n"
     ]
    }
   ],
   "source": [
    "#This is a comment\n",
    "print(\"Welcome!, Python101\") #This is a comment print(\"Hi\")"
   ]
  },
  {
   "cell_type": "markdown",
   "id": "15519bb8",
   "metadata": {},
   "source": [
    "**A comment does not have to be text that explains the code, it can also be used to prevent Python from executing code.**\n",
    "### Example:-"
   ]
  },
  {
   "cell_type": "code",
   "execution_count": 21,
   "id": "d386d7c4",
   "metadata": {},
   "outputs": [
    {
     "name": "stdout",
     "output_type": "stream",
     "text": [
      "This String will be printed\n"
     ]
    }
   ],
   "source": [
    "#print(\"This argument will be ignored\")\n",
    "x = \"This String will be printed\" # in this case x is a variable. \n",
    "print(x)#the value assigned to x(which is inside the quotes)is called a String."
   ]
  },
  {
   "cell_type": "markdown",
   "id": "63d33b4c",
   "metadata": {},
   "source": [
    "# Multi Line Comments\n",
    "        Python does not really have a syntax for multiline comments. To add a multiline comment you could insert a ' # ' for each line, or you can    insert triple quotes in your code, and place your comment inside it.\n",
    "        \n",
    "        Since Python will ignore string literals that are not assigned to a  variable, Python will read the code, but then ignore it, so you can use  triple double(\"\"\")quotes, or triple single(''')quotes to make multiline comments.\n",
    "### Example 1:-"
   ]
  },
  {
   "cell_type": "code",
   "execution_count": 22,
   "id": "c25a8504",
   "metadata": {},
   "outputs": [
    {
     "name": "stdout",
     "output_type": "stream",
     "text": [
      "Python Day 1.\n"
     ]
    }
   ],
   "source": [
    "#This is a comment\n",
    "#written in \n",
    "#more than just one line.\n",
    "print(\"Python Day 1.\")"
   ]
  },
  {
   "cell_type": "markdown",
   "id": "c7f1871b",
   "metadata": {},
   "source": [
    "### Example 2:-"
   ]
  },
  {
   "cell_type": "code",
   "execution_count": 27,
   "id": "3658fac7",
   "metadata": {},
   "outputs": [
    {
     "name": "stdout",
     "output_type": "stream",
     "text": [
      "***ADIOS***\n"
     ]
    }
   ],
   "source": [
    "\"\"\"\n",
    "This is a comment\n",
    "written in\n",
    "more than just one line.\n",
    "\"\"\"\n",
    "print(\"***ADIOS***\")"
   ]
  }
 ],
 "metadata": {
  "kernelspec": {
   "display_name": "Python 3 (ipykernel)",
   "language": "python",
   "name": "python3"
  },
  "language_info": {
   "codemirror_mode": {
    "name": "ipython",
    "version": 3
   },
   "file_extension": ".py",
   "mimetype": "text/x-python",
   "name": "python",
   "nbconvert_exporter": "python",
   "pygments_lexer": "ipython3",
   "version": "3.9.7"
  }
 },
 "nbformat": 4,
 "nbformat_minor": 5
}
