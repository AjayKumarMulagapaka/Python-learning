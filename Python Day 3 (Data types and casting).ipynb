{
 "cells": [
  {
   "cell_type": "markdown",
   "id": "7c3fcba0",
   "metadata": {},
   "source": [
    "# Data Types\n",
    "## Built-in Data Types\n",
    "In programming, data type is an important concept. Variables can store data of different types, and different types can do different things. "
   ]
  },
  {
   "cell_type": "markdown",
   "id": "6c208f87",
   "metadata": {},
   "source": [
    "### Getting the data type \n",
    "we can get the data type of any object by using the **type()** function.\n",
    "###### Example :"
   ]
  },
  {
   "cell_type": "code",
   "execution_count": 2,
   "id": "e56db0ac",
   "metadata": {},
   "outputs": [
    {
     "name": "stdout",
     "output_type": "stream",
     "text": [
      "<class 'int'>\n",
      "<class 'str'>\n",
      "<class 'float'>\n"
     ]
    }
   ],
   "source": [
    "x = 9\n",
    "y = \"Hello World!\"\n",
    "z = 9.8\n",
    "print(type(x))\n",
    "print(type(y))\n",
    "print(type(z))"
   ]
  },
  {
   "cell_type": "markdown",
   "id": "a3797df4",
   "metadata": {},
   "source": [
    "Python has the following data types built-in by default, in these categories:\n",
    "### 1.Text type : str (string)"
   ]
  },
  {
   "cell_type": "code",
   "execution_count": 3,
   "id": "44cd6943",
   "metadata": {},
   "outputs": [
    {
     "name": "stdout",
     "output_type": "stream",
     "text": [
      "Hello World!\n",
      "<class 'str'>\n"
     ]
    }
   ],
   "source": [
    "x = \"Hello World!\"\n",
    "print(x) #display the value of x\n",
    "print(type(x)) #display the data type of x"
   ]
  },
  {
   "cell_type": "markdown",
   "id": "9ff393b2",
   "metadata": {},
   "source": [
    "### 2.Numeric types : int (integer), float, complex\n",
    "###### Example :- int (integer)"
   ]
  },
  {
   "cell_type": "code",
   "execution_count": 4,
   "id": "46852b6a",
   "metadata": {},
   "outputs": [
    {
     "name": "stdout",
     "output_type": "stream",
     "text": [
      "25\n",
      "<class 'int'>\n"
     ]
    }
   ],
   "source": [
    "x = 25\n",
    "print(x) #display the value of x\n",
    "print(type(x)) #display the data type of x"
   ]
  },
  {
   "cell_type": "markdown",
   "id": "4ec8d505",
   "metadata": {},
   "source": [
    "###### Example :- float"
   ]
  },
  {
   "cell_type": "code",
   "execution_count": 5,
   "id": "10b629b2",
   "metadata": {},
   "outputs": [
    {
     "name": "stdout",
     "output_type": "stream",
     "text": [
      "9.8\n",
      "<class 'float'>\n"
     ]
    }
   ],
   "source": [
    "x = 9.8\n",
    "print(x) #display the value of x\n",
    "print(type(x)) #display the data type of x"
   ]
  },
  {
   "cell_type": "markdown",
   "id": "7e65f531",
   "metadata": {},
   "source": [
    "###### Example :- complex"
   ]
  },
  {
   "cell_type": "code",
   "execution_count": 6,
   "id": "854e7df2",
   "metadata": {},
   "outputs": [
    {
     "name": "stdout",
     "output_type": "stream",
     "text": [
      "1j\n",
      "<class 'complex'>\n"
     ]
    }
   ],
   "source": [
    "x = 1j\n",
    "print(x) #display the value of x\n",
    "print(type(x)) #display the data type of x"
   ]
  },
  {
   "cell_type": "markdown",
   "id": "6bb8013d",
   "metadata": {},
   "source": [
    "### 3.Sequence types : list, tuple, range\n",
    "###### Example :- list"
   ]
  },
  {
   "cell_type": "code",
   "execution_count": 7,
   "id": "ec1d5a26",
   "metadata": {},
   "outputs": [
    {
     "name": "stdout",
     "output_type": "stream",
     "text": [
      "['Benz', 'BMW', 'Audi']\n",
      "<class 'list'>\n"
     ]
    }
   ],
   "source": [
    "cars = [\"Benz\", \"BMW\", \"Audi\"]\n",
    "print(cars) #display the value of x\n",
    "print(type(cars)) #display the data type of x"
   ]
  },
  {
   "cell_type": "markdown",
   "id": "916e9794",
   "metadata": {},
   "source": [
    "###### Example :- tuple"
   ]
  },
  {
   "cell_type": "code",
   "execution_count": 8,
   "id": "e6eede08",
   "metadata": {},
   "outputs": [
    {
     "name": "stdout",
     "output_type": "stream",
     "text": [
      "('Benz', 'BMW', 'Audi')\n",
      "<class 'tuple'>\n"
     ]
    }
   ],
   "source": [
    "cars = (\"Benz\", \"BMW\", \"Audi\")\n",
    "print(cars) #display the value of x\n",
    "print(type(cars)) #display the data type of x"
   ]
  },
  {
   "cell_type": "markdown",
   "id": "2da3c8f7",
   "metadata": {},
   "source": [
    "###### Example :- range"
   ]
  },
  {
   "cell_type": "code",
   "execution_count": 9,
   "id": "4eb14746",
   "metadata": {},
   "outputs": [
    {
     "name": "stdout",
     "output_type": "stream",
     "text": [
      "range(0, 25)\n",
      "<class 'range'>\n"
     ]
    }
   ],
   "source": [
    "z = range(25)\n",
    "print(z) #display the value of x\n",
    "print(type(z)) #display the data type of x"
   ]
  },
  {
   "cell_type": "markdown",
   "id": "214ec50a",
   "metadata": {},
   "source": [
    "### 4.Mapping type : dict (dictionary)"
   ]
  },
  {
   "cell_type": "code",
   "execution_count": 10,
   "id": "6f94d98a",
   "metadata": {},
   "outputs": [
    {
     "name": "stdout",
     "output_type": "stream",
     "text": [
      "{'name': 'Cherry', 'age': 26}\n",
      "<class 'dict'>\n"
     ]
    }
   ],
   "source": [
    "a = {\"name\" : \"Cherry\", \"age\" : 26}\n",
    "print(a) #display the value of x\n",
    "print(type(a)) #display the data type of x"
   ]
  },
  {
   "cell_type": "markdown",
   "id": "669e7f6e",
   "metadata": {},
   "source": [
    "### 5.Set types :- set, frozenset\n",
    "###### Example :- set"
   ]
  },
  {
   "cell_type": "code",
   "execution_count": 11,
   "id": "35029721",
   "metadata": {},
   "outputs": [
    {
     "name": "stdout",
     "output_type": "stream",
     "text": [
      "{'BMW', 'Benz', 'Audi'}\n",
      "<class 'set'>\n"
     ]
    }
   ],
   "source": [
    "cars = {\"Benz\", \"BMW\", \"Audi\"}\n",
    "print(cars) #display the value of x\n",
    "print(type(cars)) #display the data type of x"
   ]
  },
  {
   "cell_type": "markdown",
   "id": "1d25ff1b",
   "metadata": {},
   "source": [
    "###### Example :- frozenset"
   ]
  },
  {
   "cell_type": "code",
   "execution_count": 12,
   "id": "4a024498",
   "metadata": {},
   "outputs": [
    {
     "name": "stdout",
     "output_type": "stream",
     "text": [
      "frozenset({'BMW', 'Benz', 'Audi'})\n",
      "<class 'frozenset'>\n"
     ]
    }
   ],
   "source": [
    "cars = frozenset({\"Benz\", \"BMW\", \"Audi\"})\n",
    "print(cars) #display the value of x\n",
    "print(type(cars)) #display the data type of x"
   ]
  },
  {
   "cell_type": "markdown",
   "id": "43934e8b",
   "metadata": {},
   "source": [
    "### 6.Boolean type : bool"
   ]
  },
  {
   "cell_type": "code",
   "execution_count": 13,
   "id": "dbb101ce",
   "metadata": {},
   "outputs": [
    {
     "name": "stdout",
     "output_type": "stream",
     "text": [
      "True\n",
      "<class 'bool'>\n"
     ]
    }
   ],
   "source": [
    "a = True\n",
    "print(a) #display the value of x\n",
    "print(type(a)) #display the data type of x"
   ]
  },
  {
   "cell_type": "markdown",
   "id": "8ec5ce83",
   "metadata": {},
   "source": [
    "### 7.Binary types : bytes, bytearray, memoryview\n",
    "###### Example :- bytes"
   ]
  },
  {
   "cell_type": "code",
   "execution_count": 14,
   "id": "c648989b",
   "metadata": {},
   "outputs": [
    {
     "name": "stdout",
     "output_type": "stream",
     "text": [
      "b'Hello'\n",
      "<class 'bytes'>\n"
     ]
    }
   ],
   "source": [
    "a = b\"Hello\"\n",
    "print(a) #display the value of x\n",
    "print(type(a)) #display the data type of x"
   ]
  },
  {
   "cell_type": "markdown",
   "id": "c426c537",
   "metadata": {},
   "source": [
    "###### Example :- bytearray"
   ]
  },
  {
   "cell_type": "code",
   "execution_count": 15,
   "id": "fa9529ed",
   "metadata": {},
   "outputs": [
    {
     "name": "stdout",
     "output_type": "stream",
     "text": [
      "bytearray(b'\\x00\\x00\\x00\\x00\\x00\\x00\\x00\\x00\\x00')\n",
      "<class 'bytearray'>\n"
     ]
    }
   ],
   "source": [
    "a = bytearray(9)\n",
    "print(a) #display the value of x\n",
    "print(type(a)) #display the data type of x"
   ]
  },
  {
   "cell_type": "markdown",
   "id": "592f8cbe",
   "metadata": {},
   "source": [
    "###### Example :- memoryview"
   ]
  },
  {
   "cell_type": "code",
   "execution_count": 16,
   "id": "247f8295",
   "metadata": {},
   "outputs": [
    {
     "name": "stdout",
     "output_type": "stream",
     "text": [
      "<memory at 0x000002BA0D9FB700>\n",
      "<class 'memoryview'>\n"
     ]
    }
   ],
   "source": [
    "a = memoryview(bytes(9))\n",
    "print(a) #display the value of x\n",
    "print(type(a)) #display the data type of x"
   ]
  },
  {
   "cell_type": "markdown",
   "id": "cf76f7de",
   "metadata": {},
   "source": [
    "### Converting from one data type to a different data type : (CASTING)\n",
    "we can change the type of the object in Python; this is called typecasting. For example, we can convert an *integer* into a *float*.\n",
    "\n",
    "Casting in python is therefore done using constructor functions:\n",
    "\n",
    "- **int()** - constructs an integer number from an integer literal, a float literal (by removing all decimals), or a string literal (providing the string represents a whole number)\n",
    "- **float()** - constructs a float number from an integer literal, a float literal or a string literal (providing the string represents a float or an integer)\n",
    "- **str()** - constructs a string from a wide variety of data types, including strings, integer literals and float literals"
   ]
  },
  {
   "cell_type": "markdown",
   "id": "82570bff",
   "metadata": {},
   "source": [
    "###### Example : Integers"
   ]
  },
  {
   "cell_type": "code",
   "execution_count": 17,
   "id": "bc07d22e",
   "metadata": {},
   "outputs": [
    {
     "name": "stdout",
     "output_type": "stream",
     "text": [
      "1\n",
      "2\n",
      "3\n"
     ]
    }
   ],
   "source": [
    "a = int(1)\n",
    "b = int(2.2) #in this case decimals will be removed.\n",
    "c = int(\"3\")\n",
    "print(a)\n",
    "print(b)\n",
    "print(c)"
   ]
  },
  {
   "cell_type": "markdown",
   "id": "c4d7481a",
   "metadata": {},
   "source": [
    "###### Example : floats"
   ]
  },
  {
   "cell_type": "code",
   "execution_count": 18,
   "id": "a0fc9496",
   "metadata": {},
   "outputs": [
    {
     "name": "stdout",
     "output_type": "stream",
     "text": [
      "1.0\n",
      "2.2\n",
      "3.0\n",
      "4.8\n"
     ]
    }
   ],
   "source": [
    "a = float(1)\n",
    "b = float(2.2)\n",
    "c = float(\"3\")\n",
    "d = float(\"4.8\")\n",
    "print(a)\n",
    "print(b)\n",
    "print(c)\n",
    "print(d)"
   ]
  },
  {
   "cell_type": "markdown",
   "id": "8a6f18da",
   "metadata": {},
   "source": [
    "###### Example : strings"
   ]
  },
  {
   "cell_type": "code",
   "execution_count": 19,
   "id": "e440cb11",
   "metadata": {},
   "outputs": [
    {
     "name": "stdout",
     "output_type": "stream",
     "text": [
      "A1\n",
      "12\n",
      "23.0\n"
     ]
    }
   ],
   "source": [
    "a = str(\"A1\")\n",
    "b = str(12)\n",
    "c = str(23.0)\n",
    "print(a)\n",
    "print(b)\n",
    "print(c)"
   ]
  }
 ],
 "metadata": {
  "kernelspec": {
   "display_name": "Python 3 (ipykernel)",
   "language": "python",
   "name": "python3"
  },
  "language_info": {
   "codemirror_mode": {
    "name": "ipython",
    "version": 3
   },
   "file_extension": ".py",
   "mimetype": "text/x-python",
   "name": "python",
   "nbconvert_exporter": "python",
   "pygments_lexer": "ipython3",
   "version": "3.9.7"
  }
 },
 "nbformat": 4,
 "nbformat_minor": 5
}
